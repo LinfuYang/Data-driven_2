{
 "cells": [
  {
   "cell_type": "code",
   "execution_count": 1,
   "metadata": {},
   "outputs": [],
   "source": [
    "from sklearn.preprocessing import StandardScaler\n",
    "import pandas as pd\n",
    "import numpy as np\n",
    "from sklearn.svm import SVR\n",
    "from sklearn.ensemble import GradientBoostingRegressor, RandomForestRegressor\n",
    "from sklearn.linear_model import LinearRegression, Lasso, Ridge\n",
    "from sklearn.metrics import r2_score, mean_squared_error, median_absolute_error\n",
    "from sklearn.model_selection import cross_val_score, train_test_split"
   ]
  },
  {
   "cell_type": "code",
   "execution_count": 2,
   "metadata": {},
   "outputs": [],
   "source": [
    "data = pd.read_csv('data_worked_num.csv')\n",
    "data_train, data_test = train_test_split(data, test_size = 0.25)"
   ]
  },
  {
   "cell_type": "code",
   "execution_count": 3,
   "metadata": {},
   "outputs": [
    {
     "name": "stdout",
     "output_type": "stream",
     "text": [
      "Index(['lights', 'T1', 'RH_1', 'T2', 'RH_2', 'T3', 'RH_3', 'T4', 'RH_4', 'T5',\n",
      "       'RH_5', 'T6', 'RH_6', 'T7', 'RH_7', 'T8', 'RH_8', 'T9', 'RH_9', 'T_out',\n",
      "       'Press_mm_hg', 'RH_out', 'Windspeed', 'Visibility', 'Tdewpoint', 'NSM',\n",
      "       'day_of_week_Friday', 'day_of_week_Monday', 'day_of_week_Saturday',\n",
      "       'day_of_week_Sunday', 'day_of_week_Thursday', 'day_of_week_Tuesday',\n",
      "       'day_of_week_Wednesday ', 'sate_of_week_weekned', 'sate_of_week_work'],\n",
      "      dtype='object')\n"
     ]
    },
    {
     "name": "stderr",
     "output_type": "stream",
     "text": [
      "D:\\anaconda3.5\\lib\\site-packages\\pandas\\core\\frame.py:3694: SettingWithCopyWarning: \n",
      "A value is trying to be set on a copy of a slice from a DataFrame\n",
      "\n",
      "See the caveats in the documentation: http://pandas.pydata.org/pandas-docs/stable/indexing.html#indexing-view-versus-copy\n",
      "  errors=errors)\n"
     ]
    }
   ],
   "source": [
    "# column_LM = ['lights', 'T1', 'RH_1', 'T2', 'RH_2', 'T3', 'RH_3', 'T4', 'RH_4', 'T5', 'RH_5', 'T6', 'RH_6', 'T7', 'RH_7', 'T8', 'RH_8',\n",
    "#              'T9', 'RH_9','T_out', 'Press_mm_hg', 'RH_out', 'Windspeed',  'Tdewpoint','NSM',  'day_of_week', 'sate_of_week']\n",
    "y_train = data_train['Appliances']\n",
    "y_test = data_test['Appliances']\n",
    "\n",
    "data_train.drop(['Appliances'], axis=1, inplace=True)\n",
    "data_test.drop(['Appliances'], axis=1, inplace=True)\n",
    "print(data_train.columns)"
   ]
  },
  {
   "cell_type": "code",
   "execution_count": 4,
   "metadata": {},
   "outputs": [
    {
     "data": {
      "text/plain": [
       "Index(['lights', 'T1', 'RH_1', 'T2', 'RH_2', 'T3', 'RH_3', 'T4', 'RH_4', 'T5',\n",
       "       'RH_5', 'T6', 'RH_6', 'T7', 'RH_7', 'T8', 'RH_8', 'T9', 'RH_9', 'T_out',\n",
       "       'Press_mm_hg', 'RH_out', 'Windspeed', 'Visibility', 'Tdewpoint', 'NSM',\n",
       "       'day_of_week_Friday', 'day_of_week_Monday', 'day_of_week_Saturday',\n",
       "       'day_of_week_Sunday', 'day_of_week_Thursday', 'day_of_week_Tuesday',\n",
       "       'day_of_week_Wednesday ', 'sate_of_week_weekned', 'sate_of_week_work'],\n",
       "      dtype='object')"
      ]
     },
     "execution_count": 4,
     "metadata": {},
     "output_type": "execute_result"
    }
   ],
   "source": [
    "data_test.columns"
   ]
  },
  {
   "cell_type": "markdown",
   "metadata": {},
   "source": [
    "['date', 'Appliances', 'lights', 'T1', 'RH_1', 'T2', 'RH_2', 'T3', 'RH_3', 'T4', 'RH_4', 'T5', 'RH_5', 'T6', 'RH_6', 'T7', 'RH_7', 'T8', 'RH_8',\n",
    "'T9', 'RH_9', 'T_out', 'Press_mm_hg', 'RH_out', 'Windspeed', 'Visibility', 'Tdewpoint', 'rv1', 'rv2', 'NSM', 'day_of_week', 'sate_of_week']"
   ]
  },
  {
   "cell_type": "code",
   "execution_count": 5,
   "metadata": {},
   "outputs": [],
   "source": [
    "\n",
    "column_LM = data_train.columns\n",
    "'''\n",
    "for index in column_LM:\n",
    "    scaler = StandardScaler()\n",
    "    data_train[index] = scaler.fit_transform((data_train[index].values).reshape(-1, 1))\n",
    "\n",
    "for index in column_LM:\n",
    "    scaler = StandardScaler()\n",
    "    data_test[index] = scaler.fit_transform((data_test[index].values).reshape(-1, 1))\n",
    "    x_train = data_train[column_LM]\n",
    "'''\n",
    "x_train = data_train[column_LM]\n",
    "x_test = data_test[column_LM]\n",
    "\n"
   ]
  },
  {
   "cell_type": "code",
   "execution_count": 6,
   "metadata": {},
   "outputs": [
    {
     "name": "stdout",
     "output_type": "stream",
     "text": [
      "94.97124927647369\n"
     ]
    }
   ],
   "source": [
    "# 线性回归做交叉验证\n",
    "cv_lr_model = LinearRegression()\n",
    "lr_best_score = np.mean(np.sqrt(-(cross_val_score(cv_lr_model, x_train, y=y_train, scoring='neg_mean_squared_error', cv=10))))\n",
    "print(lr_best_score)"
   ]
  },
  {
   "cell_type": "code",
   "execution_count": 7,
   "metadata": {},
   "outputs": [
    {
     "name": "stdout",
     "output_type": "stream",
     "text": [
      "****************LinearRegression****************\n",
      "RMSE_lr: 87.92637352714617\n",
      "R2_lr: 0.17951525034363813\n",
      "MAE_lr: 32.92649609272177\n"
     ]
    }
   ],
   "source": [
    "model_lr = LinearRegression()\n",
    "model_lr.fit(x_train, y_train)\n",
    "pro = model_lr.predict(x_test)\n",
    "\n",
    "R2_lr = r2_score(y_test, pro)\n",
    "\n",
    "RMSE_lr = np.sqrt(mean_squared_error(y_test, pro))\n",
    "\n",
    "MAE_lr = median_absolute_error(y_test, pro)\n",
    "\n",
    "print('****************'+'LinearRegression'+'****************')\n",
    "print('RMSE_lr:', RMSE_lr)\n",
    "print('R2_lr:', R2_lr)\n",
    "print('MAE_lr:', MAE_lr)"
   ]
  },
  {
   "cell_type": "code",
   "execution_count": 8,
   "metadata": {},
   "outputs": [
    {
     "name": "stdout",
     "output_type": "stream",
     "text": [
      "****************SVR****************\n",
      "RMSE_svr: 102.92306513833697\n",
      "R2_svr: -0.12423632457397016\n",
      "MAE_svr: 19.40603937556204\n"
     ]
    }
   ],
   "source": [
    "model_svr = SVR()\n",
    "model_svr.fit(x_train, y_train)\n",
    "pro = model_svr.predict(x_test)\n",
    "\n",
    "R2_svr = r2_score(y_test, pro)\n",
    "\n",
    "RMSE_svr = np.sqrt(mean_squared_error(y_test, pro))\n",
    "\n",
    "MAE_svr = median_absolute_error(y_test, pro)\n",
    "\n",
    "print('****************'+'SVR'+'****************')\n",
    "print('RMSE_svr:', RMSE_svr)\n",
    "print('R2_svr:', R2_svr)\n",
    "print('MAE_svr:', MAE_svr)"
   ]
  },
  {
   "cell_type": "code",
   "execution_count": 9,
   "metadata": {},
   "outputs": [
    {
     "name": "stdout",
     "output_type": "stream",
     "text": [
      "****************GradientBoostingRegressor****************\n",
      "RMSE_gbdt: 80.0430100404407\n",
      "R2_gbdt: 0.32004681140298696\n",
      "MAE_gbdt: 24.662454962267546\n"
     ]
    }
   ],
   "source": [
    "model_gbdt = GradientBoostingRegressor()\n",
    "model_gbdt.fit(x_train, y_train)\n",
    "pro_gbdt = model_gbdt.predict(x_test)\n",
    "\n",
    "\n",
    "R2_gbdt = r2_score(y_test, pro_gbdt)\n",
    "\n",
    "RMSE_gbdt = np.sqrt(mean_squared_error(y_test, pro_gbdt))\n",
    "\n",
    "MAE_gbdt = median_absolute_error(y_test, pro_gbdt)\n",
    "\n",
    "print('****************'+'GradientBoostingRegressor'+'****************')\n",
    "print('RMSE_gbdt:', RMSE_gbdt)\n",
    "print('R2_gbdt:', R2_gbdt)\n",
    "print('MAE_gbdt:', MAE_gbdt)"
   ]
  },
  {
   "cell_type": "code",
   "execution_count": 10,
   "metadata": {},
   "outputs": [
    {
     "name": "stdout",
     "output_type": "stream",
     "text": [
      "****************RandomForestRegressor****************\n",
      "RMSE_rf: 68.89365891245848\n",
      "R2_rf: 0.4962782636187316\n",
      "MAE_rf: 11.0\n"
     ]
    }
   ],
   "source": [
    "model_rf = RandomForestRegressor()\n",
    "model_rf.fit(x_train, y_train)\n",
    "pro_rf = model_rf.predict(x_test)\n",
    "\n",
    "R2_rf = r2_score(y_test, pro_rf)\n",
    "\n",
    "RMSE_rf = np.sqrt(mean_squared_error(y_test, pro_rf))\n",
    "\n",
    "MAE_rf = median_absolute_error(y_test, pro_rf)\n",
    "\n",
    "print('****************'+'RandomForestRegressor'+'****************')\n",
    "print('RMSE_rf:', RMSE_rf)\n",
    "print('R2_rf:', R2_rf)\n",
    "print('MAE_rf:', MAE_rf)\n"
   ]
  },
  {
   "cell_type": "code",
   "execution_count": null,
   "metadata": {},
   "outputs": [],
   "source": []
  },
  {
   "cell_type": "code",
   "execution_count": null,
   "metadata": {},
   "outputs": [],
   "source": []
  },
  {
   "cell_type": "code",
   "execution_count": null,
   "metadata": {},
   "outputs": [],
   "source": []
  },
  {
   "cell_type": "code",
   "execution_count": null,
   "metadata": {},
   "outputs": [],
   "source": []
  }
 ],
 "metadata": {
  "kernelspec": {
   "display_name": "Python 3",
   "language": "python",
   "name": "python3"
  },
  "language_info": {
   "codemirror_mode": {
    "name": "ipython",
    "version": 3
   },
   "file_extension": ".py",
   "mimetype": "text/x-python",
   "name": "python",
   "nbconvert_exporter": "python",
   "pygments_lexer": "ipython3",
   "version": "3.6.5"
  }
 },
 "nbformat": 4,
 "nbformat_minor": 2
}
